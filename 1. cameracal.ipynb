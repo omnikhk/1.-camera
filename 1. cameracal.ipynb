{
 "cells": [
  {
   "cell_type": "markdown",
   "metadata": {},
   "source": [
    "# 1. 카메라 내부파라미터 추론"
   ]
  },
  {
   "cell_type": "code",
   "execution_count": 1,
   "metadata": {},
   "outputs": [
    {
     "name": "stdout",
     "output_type": "stream",
     "text": [
      "카메라 행렬 (내부 파라미터):\n",
      "[[1.36626365e+03 0.00000000e+00 9.71802057e+02]\n",
      " [0.00000000e+00 1.02508832e+03 5.53490799e+02]\n",
      " [0.00000000e+00 0.00000000e+00 1.00000000e+00]]\n",
      "\n",
      "왜곡 계수:\n",
      "[[ 0.19233521 -0.3909514   0.00646862 -0.00067985 -0.11904668]]\n"
     ]
    }
   ],
   "source": [
    "import cv2\n",
    "import numpy as np\n",
    "import glob\n",
    "\n",
    "#test\n",
    "\n",
    "# 체스보드 패턴의 내부 코너 개수\n",
    "checkerboard_size = (9, 6)\n",
    "\n",
    "# 체스보드 패턴의 각 코너에 대한 3D 좌표 설정\n",
    "objp = np.zeros((checkerboard_size[0]*checkerboard_size[1], 3), np.float32)\n",
    "objp[:, :2] = np.mgrid[0:checkerboard_size[0], 0:checkerboard_size[1]].T.reshape(-1, 2)\n",
    "\n",
    "# 3D 점과 2D 점 저장을 위한 배열\n",
    "objpoints = []  # 실제 3D 좌표\n",
    "imgpoints = []  # 이미지 2D 좌표\n",
    "\n",
    "# 체스보드 이미지 파일 읽기\n",
    "images = glob.glob('imagesforimplicit/*.jpg')\n",
    "\n",
    "for fname in images:\n",
    "    img = cv2.imread(fname)\n",
    "    img = cv2.resize(img, (1920, 1080))\n",
    "    gray = cv2.cvtColor(img, cv2.COLOR_BGR2GRAY)\n",
    "    \n",
    "    # 체스보드 코너 찾기\n",
    "    ret, corners = cv2.findChessboardCorners(gray, checkerboard_size, None)\n",
    "    \n",
    "    if ret:\n",
    "        objpoints.append(objp)\n",
    "        imgpoints.append(corners)\n",
    "        \n",
    "        # 코너를 그려서 확인\n",
    "        img = cv2.drawChessboardCorners(img, checkerboard_size, corners, ret)\n",
    "        cv2.imshow('img', img)\n",
    "        cv2.waitKey(500)\n",
    "\n",
    "cv2.destroyAllWindows()\n",
    "\n",
    "# 카메라 캘리브레이션 수행\n",
    "ret, mtx, dist, rvecs, tvecs = cv2.calibrateCamera(objpoints, imgpoints, gray.shape[::-1], None, None)\n",
    "\n",
    "# 결과 출력\n",
    "print(\"카메라 행렬 (내부 파라미터):\")\n",
    "print(mtx)\n",
    "print(\"\\n왜곡 계수:\")\n",
    "print(dist)\n"
   ]
  },
  {
   "cell_type": "markdown",
   "metadata": {},
   "source": [
    "# 2. 카메라 외부파라미터 추론"
   ]
  },
  {
   "cell_type": "code",
   "execution_count": 2,
   "metadata": {},
   "outputs": [],
   "source": [
    "# 좌표축 그리기 함수\n",
    "def draw_axes(img, corners, imgpts, corner_idx = 0):\n",
    "    # 각 포인트의 좌표를 정수형으로 변환\n",
    "    corner = tuple(int(x) for x in corners[corner_idx].ravel())\n",
    "    img = cv2.line(img, corner, tuple(int(x) for x in imgpts[0].ravel()), (255,0,0), 5)\n",
    "    img = cv2.line(img, corner, tuple(int(x) for x in imgpts[1].ravel()), (0,255,0), 5)\n",
    "    img = cv2.line(img, corner, tuple(int(x) for x in imgpts[2].ravel()), (0,0,255), 5)\n",
    "    return img\n",
    "\n",
    "\n",
    "# 회전 벡터를 변환하는 함수\n",
    "def transform_rvec_rotation(rvec):\n",
    "    R, _ = cv2.Rodrigues(rvec)\n",
    "    R_z_90 = np.array([[0, -1, 0],\n",
    "                       [1, 0, 0],\n",
    "                       [0, 0, 1]])\n",
    "    R_y_180 = np.array([[-1, 0, 0],\n",
    "    [0, 1, 0],\n",
    "    [0, 0, -1]])\n",
    "    \n",
    "    R_new = R @ R_y_180 @ R_z_90\n",
    "    rvec_new, _ = cv2.Rodrigues(R_new)\n",
    "    return rvec_new\n"
   ]
  },
  {
   "cell_type": "code",
   "execution_count": 3,
   "metadata": {},
   "outputs": [
    {
     "name": "stdout",
     "output_type": "stream",
     "text": [
      "회전 행렬 R1:\n",
      "[[-0.13812448  0.99039822 -0.0057441 ]\n",
      " [ 0.15067916  0.01528137 -0.9884646 ]\n",
      " [-0.9788858  -0.13739668 -0.1513431 ]]\n",
      "변환 벡터 t1:\n",
      "[[-728.5138225 ]\n",
      " [ 628.73961129]\n",
      " [4647.41077983]]\n"
     ]
    }
   ],
   "source": [
    "# 체커보드의 차원 정의\n",
    "CHECKERBOARD = (4, 6)\n",
    "criteria = (cv2.TERM_CRITERIA_EPS + cv2.TERM_CRITERIA_MAX_ITER, 30, 0.001)\n",
    "\n",
    "# 3D 점의 세계 좌표 정의\n",
    "objp = np.zeros((CHECKERBOARD[0] * CHECKERBOARD[1], 3), np.float32)\n",
    "objp[:, :2] = np.mgrid[0:CHECKERBOARD[0], 0:CHECKERBOARD[1]].T.reshape(-1, 2)\n",
    "\n",
    "# 주어진 디렉터리에 저장된 개별 이미지의 경로 추출\n",
    "image = './imagesforexplicit/Right.jpg'\n",
    "\n",
    "# 이미 알고 있는 내부 파라미터 행렬 (예시로 설정)\n",
    "K1 = np.array([[1.12565025e+03, 0.00000000e+00, 9.60006129e+02],\n",
    "               [0.00000000e+00, 1.12789841e+03, 5.68305880e+02],\n",
    "               [0.00000000e+00, 0.00000000e+00, 1.00000000e+00]])\n",
    "\n",
    "# 왜곡 계수 (예시로 설정)\n",
    "dist = np.array([[0.12742061, -0.45943817, 0.00251015, 0.00197737, 1.14483895]])\n",
    "\n",
    "# 외부 파라미터를 저장할 리스트\n",
    "Rmat = []\n",
    "tmat = []\n",
    "\n",
    "# 축의 길이 정의\n",
    "axis = np.float32([[3,0,0], [0,3,0], [0,0,3]]).reshape(-1,3)\n",
    "\n",
    "img = cv2.imread(image)\n",
    "img = cv2.resize(img, (1920, 1080))\n",
    "\n",
    "gray = cv2.cvtColor(img, cv2.COLOR_BGR2GRAY)\n",
    "ret, corners = cv2.findChessboardCorners(gray, CHECKERBOARD, None)\n",
    "if ret:\n",
    "    corners2 = cv2.cornerSubPix(gray, corners, (11, 11), (-1, -1), criteria)\n",
    "    ret, rvec, tvec = cv2.solvePnP(objp, corners2, K1, dist)\n",
    "    \n",
    "    # 회전 변환 적용\n",
    "    rvec_transformed = transform_rvec_rotation(rvec)\n",
    "    \n",
    "    Rmat.append(cv2.Rodrigues(rvec_transformed)[0])\n",
    "    tmat.append(tvec * 200)\n",
    "    \n",
    "    imgpts, jac = cv2.projectPoints(axis, rvec_transformed, tvec, K1, dist)\n",
    "    img = cv2.drawChessboardCorners(img, CHECKERBOARD, corners2, ret)\n",
    "    img = draw_axes(img, corners2, imgpts, 0)\n",
    "    cv2.imshow('Image with World Origin', img)\n",
    "    cv2.imwrite(\"./output/\"+image.split('\\\\')[-1], img)\n",
    "    cv2.waitKey(0)\n",
    "cv2.destroyAllWindows()\n",
    "\n",
    "print(\"회전 행렬 R1:\")\n",
    "print(Rmat[0])\n",
    "print(\"변환 벡터 t1:\")\n",
    "print(tmat[0])"
   ]
  },
  {
   "cell_type": "code",
   "execution_count": 4,
   "metadata": {},
   "outputs": [
    {
     "name": "stdout",
     "output_type": "stream",
     "text": [
      "회전 행렬 R2:\n",
      "[[-0.48808903 -0.87236478 -0.02736389]\n",
      " [-0.1178842   0.09695628 -0.98828275]\n",
      " [ 0.86479617 -0.4791442  -0.15016132]]\n",
      "변환 벡터 t2:\n",
      "[[ 982.56148793]\n",
      " [ 918.26381763]\n",
      " [3063.3502418 ]]\n"
     ]
    }
   ],
   "source": [
    "# 3D 점의 세계 좌표 정의\n",
    "objp = np.zeros((CHECKERBOARD[0] * CHECKERBOARD[1], 3), np.float32)\n",
    "objp[:, :2] = np.mgrid[0:CHECKERBOARD[0], 0:CHECKERBOARD[1]].T.reshape(-1, 2)\n",
    "objp[:, 0] = CHECKERBOARD[0] - 1 - objp[:, 0]  # x 좌표 반전\n",
    "objp[:, 1] = CHECKERBOARD[1] - 1 - objp[:, 1]  # y 좌표 반전\n",
    "\n",
    "# 주어진 디렉터리에 저장된 개별 이미지의 경로 추출\n",
    "image = './imagesforexplicit/Left.jpg'\n",
    "\n",
    "# 이미 알고 있는 내부 파라미터 행렬 (예시로 설정)\n",
    "K2 = np.array([[1.12565025e+03, 0.00000000e+00, 9.60006129e+02],\n",
    "               [0.00000000e+00, 1.12789841e+03, 5.68305880e+02],\n",
    "               [0.00000000e+00, 0.00000000e+00, 1.00000000e+00]])\n",
    "\n",
    "img = cv2.imread(image)\n",
    "img = cv2.resize(img, (1920, 1080))\n",
    "\n",
    "gray = cv2.cvtColor(img, cv2.COLOR_BGR2GRAY)\n",
    "ret, corners = cv2.findChessboardCorners(gray, CHECKERBOARD, None)\n",
    "if ret:\n",
    "    corners2 = cv2.cornerSubPix(gray, corners, (11, 11), (-1, -1), criteria)\n",
    "    ret, rvec, tvec = cv2.solvePnP(objp, corners2, K2, dist)\n",
    "    \n",
    "    # 회전 변환 적용\n",
    "    rvec_transformed = transform_rvec_rotation(rvec)\n",
    "    \n",
    "    Rmat.append(cv2.Rodrigues(rvec_transformed)[0])\n",
    "    tmat.append(tvec * 200)\n",
    "    \n",
    "    imgpts, jac = cv2.projectPoints(axis, rvec_transformed, tvec, K2, dist)\n",
    "    img = cv2.drawChessboardCorners(img, CHECKERBOARD, corners2, ret)\n",
    "    img = draw_axes(img, corners2, imgpts, 23)\n",
    "    cv2.imshow('Image with World Origin', img)\n",
    "    cv2.imwrite(\"./output/\"+image.split('\\\\')[-1], img)\n",
    "    cv2.waitKey(0)\n",
    "cv2.destroyAllWindows()\n",
    "\n",
    "print(\"회전 행렬 R2:\")\n",
    "print(Rmat[1])\n",
    "print(\"변환 벡터 t2:\")\n",
    "print(tmat[1])"
   ]
  }
 ],
 "metadata": {
  "kernelspec": {
   "display_name": "cameracal",
   "language": "python",
   "name": "python3"
  },
  "language_info": {
   "codemirror_mode": {
    "name": "ipython",
    "version": 3
   },
   "file_extension": ".py",
   "mimetype": "text/x-python",
   "name": "python",
   "nbconvert_exporter": "python",
   "pygments_lexer": "ipython3",
   "version": "3.8.19"
  }
 },
 "nbformat": 4,
 "nbformat_minor": 2
}
